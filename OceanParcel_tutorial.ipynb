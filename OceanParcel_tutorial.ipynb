{
 "cells": [
  {
   "cell_type": "markdown",
   "id": "07f301b5-46fe-45bf-9e21-d70e50617dd4",
   "metadata": {},
   "source": [
    "## Larval Dispersal Simulation using OceanParcels\n",
    "\n",
    "# Env setup\n",
    "```python\n",
    "conda activate base\n",
    "conda create -n parcels -c conda-forge parcels cartopy jupyter\n",
    "conda install -n parcels pytset\n",
    "conda activate parcels\n",
    "```\n"
   ]
  },
  {
   "cell_type": "code",
   "execution_count": 1,
   "id": "50c94636-50c3-4831-ae3a-1d185b67e305",
   "metadata": {
    "tags": []
   },
   "outputs": [
    {
     "name": "stdout",
     "output_type": "stream",
     "text": [
      "python: can't open file 'example_peninsula.py': [Errno 2] No such file or directory\n"
     ]
    }
   ],
   "source": [
    "# Run penisula example\n",
    "!python example_peninsula.py --fieldset 100 100"
   ]
  },
  {
   "cell_type": "code",
   "execution_count": null,
   "id": "a093ff05-0380-42c1-8591-cd618bae1242",
   "metadata": {},
   "outputs": [],
   "source": []
  }
 ],
 "metadata": {
  "kernelspec": {
   "display_name": "Python (parcels)",
   "language": "python",
   "name": "parcels"
  },
  "language_info": {
   "codemirror_mode": {
    "name": "ipython",
    "version": 3
   },
   "file_extension": ".py",
   "mimetype": "text/x-python",
   "name": "python",
   "nbconvert_exporter": "python",
   "pygments_lexer": "ipython3",
   "version": "3.11.10"
  }
 },
 "nbformat": 4,
 "nbformat_minor": 5
}
